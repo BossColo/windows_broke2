{
 "cells": [
  {
   "cell_type": "code",
   "execution_count": 1,
   "metadata": {
    "ExecuteTime": {
     "end_time": "2017-05-11T19:07:36.025284Z",
     "start_time": "2017-05-11T19:07:31.123203Z"
    },
    "collapsed": true
   },
   "outputs": [],
   "source": [
    "import numpy as np\n",
    "import pandas as pd\n",
    "import datetime as dt\n",
    "import matplotlib.pyplot as plt\n",
    "import matplotlib.dates as date\n",
    "import seaborn as sns\n",
    "import urllib\n",
    "\n",
    "sns.set_context('talk')"
   ]
  },
  {
   "cell_type": "code",
   "execution_count": 2,
   "metadata": {
    "ExecuteTime": {
     "end_time": "2017-05-11T19:07:59.167495Z",
     "start_time": "2017-05-11T19:07:36.026281Z"
    },
    "collapsed": true
   },
   "outputs": [],
   "source": [
    "data_crime_raw = pd.read_csv('.\\\\NYPD_Complaint_Data_Historic.csv',\n",
    "                             usecols=['CMPLNT_FR_DT', 'OFNS_DESC', 'LAW_CAT_CD', 'Latitude', 'Longitude'],\n",
    "                             dtype={'OFNS_DESC':'category', 'LAW_CAT_CD':'category', 'Latitude':float, 'Longitude':float})\n",
    "\n",
    "data_crime_raw['CMPLNT_FR_DT'] = pd.to_datetime(data_crime_raw['CMPLNT_FR_DT'], format='%m/%d/%Y', errors='coerce')"
   ]
  },
  {
   "cell_type": "code",
   "execution_count": 3,
   "metadata": {
    "ExecuteTime": {
     "end_time": "2017-05-11T19:10:14.021270Z",
     "start_time": "2017-05-11T19:07:59.169492Z"
    },
    "collapsed": true
   },
   "outputs": [],
   "source": [
    "data_311_raw = pd.read_csv('.\\\\311_Service_Requests_from_2010_to_Present.csv',\n",
    "                           usecols=['Created Date', 'Complaint Type', 'Descriptor', 'Latitude', 'Longitude'],\n",
    "                           dtype={'Complaint Type':'category', 'Descriptor':'category', 'Latitude':float, 'Longitude':float})\n",
    "\n",
    "data_311_raw['created_date'] = pd.to_datetime(data_311_raw['Created Date'], format='%m/%d/%Y %I:%M:%S %p', errors='coerce')"
   ]
  },
  {
   "cell_type": "code",
   "execution_count": 4,
   "metadata": {
    "ExecuteTime": {
     "end_time": "2017-05-11T19:28:21.713154Z",
     "start_time": "2017-05-11T19:28:17.008560Z"
    },
    "collapsed": true
   },
   "outputs": [],
   "source": [
    "data_crime = data_crime_raw[data_crime_raw.CMPLNT_FR_DT > pd.to_datetime(dt.date(2010,1,1))].dropna()\n",
    "data_311 = data_311_raw[data_311_raw.created_date < pd.to_datetime(dt.date(2016,1,1))].dropna()"
   ]
  },
  {
   "cell_type": "code",
   "execution_count": 5,
   "metadata": {
    "ExecuteTime": {
     "end_time": "2017-05-11T19:28:34.470530Z",
     "start_time": "2017-05-11T19:28:34.373471Z"
    },
    "collapsed": true
   },
   "outputs": [],
   "source": [
    "minlat = data_crime.Latitude.min()\n",
    "maxlat = data_crime.Latitude.max()\n",
    "minlon = data_crime.Longitude.min()\n",
    "maxlon = data_crime.Longitude.max()\n",
    "\n",
    "latrange = np.arange(minlat, maxlat+0.02, 0.02)\n",
    "lonrange = np.arange(minlon, maxlon+0.02, 0.02)"
   ]
  },
  {
   "cell_type": "code",
   "execution_count": 6,
   "metadata": {
    "ExecuteTime": {
     "end_time": "2017-05-11T19:28:36.913044Z",
     "start_time": "2017-05-11T19:28:36.804953Z"
    },
    "collapsed": true
   },
   "outputs": [],
   "source": [
    "data_crime = data_crime[data_crime.LAW_CAT_CD != 'VIOLATION']"
   ]
  },
  {
   "cell_type": "code",
   "execution_count": 7,
   "metadata": {
    "ExecuteTime": {
     "end_time": "2017-05-11T19:32:05.719829Z",
     "start_time": "2017-05-11T19:31:58.419976Z"
    },
    "collapsed": true
   },
   "outputs": [],
   "source": [
    "d_c_grouped = data_crime.groupby(\n",
    "    by=[pd.cut(data_crime['Latitude'], latrange),\n",
    "        pd.cut(data_crime['Longitude'], lonrange),\n",
    "        pd.TimeGrouper(key='CMPLNT_FR_DT',freq='M')])\n",
    "\n",
    "d_311_grouped = data_311.groupby(\n",
    "    by=[pd.cut(data_311['Latitude'], latrange),\n",
    "        pd.cut(data_311['Longitude'], lonrange),\n",
    "        pd.TimeGrouper(key='created_date',freq='M')])"
   ]
  },
  {
   "cell_type": "code",
   "execution_count": 10,
   "metadata": {
    "ExecuteTime": {
     "end_time": "2017-05-01T15:36:03.042959Z",
     "start_time": "2017-05-01T15:36:02.826890Z"
    },
    "collapsed": true
   },
   "outputs": [],
   "source": [
    "max_var_loc = d_c_grouped.size().unstack().var(axis=1).argmax()"
   ]
  },
  {
   "cell_type": "code",
   "execution_count": 11,
   "metadata": {
    "ExecuteTime": {
     "end_time": "2017-05-01T15:36:07.035275Z",
     "start_time": "2017-05-01T15:36:03.044472Z"
    },
    "collapsed": true
   },
   "outputs": [],
   "source": [
    "data_crime_window = data_crime_raw[data_crime_raw.CMPLNT_FR_DT.between(\n",
    "    pd.to_datetime(dt.date(2010,1,1)), pd.to_datetime(dt.date(2015,2,1)))].dropna()\n",
    "data_311_window = data_311_raw[data_311_raw.created_date.between(\n",
    "    pd.to_datetime(dt.date(2010,1,1)), pd.to_datetime(dt.date(2015,2,1)))].dropna()"
   ]
  },
  {
   "cell_type": "code",
   "execution_count": 12,
   "metadata": {
    "ExecuteTime": {
     "end_time": "2017-05-01T15:36:13.283947Z",
     "start_time": "2017-05-01T15:36:07.037277Z"
    },
    "collapsed": true
   },
   "outputs": [],
   "source": [
    "d_c_win_grouped = data_crime_window.groupby(\n",
    "    by=[pd.cut(data_crime_window['Latitude'], latrange),\n",
    "        pd.cut(data_crime_window['Longitude'], lonrange),\n",
    "        pd.TimeGrouper(key='CMPLNT_FR_DT',freq='5D')])\n",
    "\n",
    "d_311_win_grouped = data_311_window.groupby(\n",
    "    by=[pd.cut(data_311_window['Latitude'], latrange),\n",
    "        pd.cut(data_311_window['Longitude'], lonrange),\n",
    "        pd.TimeGrouper(key='created_date',freq='5D')])"
   ]
  },
  {
   "cell_type": "code",
   "execution_count": 98,
   "metadata": {
    "ExecuteTime": {
     "end_time": "2017-05-01T06:16:41.358607Z",
     "start_time": "2017-05-01T06:16:40.174776Z"
    },
    "collapsed": true
   },
   "outputs": [],
   "source": [
    "plt.close('all')\n",
    "fig, ax = plt.subplots(figsize=(20,10))\n",
    "\n",
    "d_c_plot = d_c_win_grouped.size().unstack().loc[max_var_loc][:-1]\n",
    "crime_regression = np.polyfit(d_c_plot.index.astype(np.int64), d_c_plot.data, 1)\n",
    "plot_crime = ax.plot_date(d_c_plot.index, d_c_plot.data, 'b', label='NYPD complaints')\n",
    "reg_crime = ax.plot_date(d_c_plot.index, crime_regression[0]*d_c_plot.index.astype(int)+crime_regression[1], 'r',\n",
    "                        label='NYPD complaints linear regression')\n",
    "\n",
    "d_311_plot = d_311_win_grouped.size().unstack().loc[max_var_loc][:-1]\n",
    "regression = np.polyfit(d_311_plot.index.astype(np.int64), d_311_plot.data, 1)\n",
    "plot_311 = ax.plot_date(d_311_plot.index, d_311_plot.data, 'g', label='311 complaints')\n",
    "reg_311 = ax.plot_date(d_311_plot.index, regression[0]*d_311_plot.index.astype(int)+regression[1], 'm',\n",
    "                      label='311 complaints linear regression')\n",
    "\n",
    "ax.legend()\n",
    "\n",
    "plt.savefig('NYPDand311trend.png', format='png')"
   ]
  },
  {
   "cell_type": "code",
   "execution_count": 101,
   "metadata": {
    "ExecuteTime": {
     "end_time": "2017-05-01T06:20:27.341825Z",
     "start_time": "2017-05-01T06:20:12.550653Z"
    },
    "collapsed": true,
    "scrolled": false
   },
   "outputs": [],
   "source": [
    "plt.close('all')\n",
    "fig, ax = plt.subplots(figsize=(20, 10))\n",
    "\n",
    "d_311_largest = d_311_grouped['Complaint Type'].value_counts().unstack().loc[max_var_loc].sum().nlargest(30)\n",
    "d_311_select = data_311_window[data_311_window['Complaint Type'].isin(d_311_largest.index)]\n",
    "\n",
    "d_311_select_grouped = d_311_select.groupby(\n",
    "    by=[pd.cut(d_311_select['Latitude'], latrange),\n",
    "        pd.cut(d_311_select['Longitude'], lonrange),\n",
    "        pd.TimeGrouper(key='created_date',freq='M')])\n",
    "\n",
    "d_311_select_plot = d_311_select_grouped['Complaint Type'].value_counts().unstack().loc[max_var_loc][:-1]\n",
    "d_311_select_plot.plot(kind='bar', stacked=True, ax=ax)\n",
    "ax.legend(loc='center left', bbox_to_anchor=(1.0, 0.5))\n",
    "xtl=[dt.datetime.strptime(item.get_text(), '%Y-%m-%d %H:%M:%S').strftime('%b %Y') for item in ax.get_xticklabels()]\n",
    "_=ax.set_xticklabels(xtl)\n",
    "fig.subplots_adjust(right=0.8)\n",
    "plt.savefig('complaints311categories.png', format='png')"
   ]
  },
  {
   "cell_type": "code",
   "execution_count": 16,
   "metadata": {
    "ExecuteTime": {
     "end_time": "2017-05-01T15:39:34.474852Z",
     "start_time": "2017-05-01T15:39:33.991583Z"
    }
   },
   "outputs": [
    {
     "data": {
      "text/plain": [
       "0                                Construction\n",
       "1                  Fire Safety Director - F58\n",
       "3                  Fire Safety Director - F58\n",
       "4                             PAINT - PLASTER\n",
       "5                                    Drinking\n",
       "6                             PAINT - PLASTER\n",
       "7                         Illegal Tree Damage\n",
       "8                            New Tree Request\n",
       "9                             PAINT - PLASTER\n",
       "11                            PAINT - PLASTER\n",
       "12                            PAINT - PLASTER\n",
       "13                           Street Condition\n",
       "14                            PAINT - PLASTER\n",
       "15                            PAINT - PLASTER\n",
       "16          Missed Collection (All Materials)\n",
       "17                            PAINT - PLASTER\n",
       "18              Root/Sewer/Sidewalk Condition\n",
       "19              Root/Sewer/Sidewalk Condition\n",
       "21              Root/Sewer/Sidewalk Condition\n",
       "22              Root/Sewer/Sidewalk Condition\n",
       "23              Root/Sewer/Sidewalk Condition\n",
       "24                           Street Condition\n",
       "25                                    Smoking\n",
       "26                          Broken Muni Meter\n",
       "28                          Broken Muni Meter\n",
       "29                          Broken Muni Meter\n",
       "30                          Broken Muni Meter\n",
       "32                         Indoor Air Quality\n",
       "33                           Street Condition\n",
       "34                           Street Condition\n",
       "                          ...                \n",
       "15086062                     Street Condition\n",
       "15086065                Street Sign - Missing\n",
       "15086067                         Construction\n",
       "15086068                         Construction\n",
       "15086069                       Standing Water\n",
       "15086070                         Damaged Tree\n",
       "15086073                       Standing Water\n",
       "15086075                     Street Condition\n",
       "15086076                     Street Condition\n",
       "15086077                     Street Condition\n",
       "15086078                     Street Condition\n",
       "15086079                     Street Condition\n",
       "15086080                      PAINT - PLASTER\n",
       "15086081                      PAINT - PLASTER\n",
       "15086082                      PAINT - PLASTER\n",
       "15086083                      PAINT - PLASTER\n",
       "15086084                      PAINT - PLASTER\n",
       "15086085                      PAINT - PLASTER\n",
       "15086086                      PAINT - PLASTER\n",
       "15086087                      PAINT - PLASTER\n",
       "15086088                      PAINT - PLASTER\n",
       "15086089                      PAINT - PLASTER\n",
       "15086090                Street Sign - Damaged\n",
       "15086091                      PAINT - PLASTER\n",
       "15086093                      PAINT - PLASTER\n",
       "15086095                      PAINT - PLASTER\n",
       "15086096                      PAINT - PLASTER\n",
       "15086097                         Noise Survey\n",
       "15086098                      PAINT - PLASTER\n",
       "15086100                         Construction\n",
       "Name: Complaint Type, dtype: category\n",
       "Categories (298, object): [AGENCY, APPLIANCE, ATF, Adopt-A-Basket, ..., Water System, Weatherization, Window Guard, X-Ray Machine/Equipment]"
      ]
     },
     "execution_count": 16,
     "metadata": {},
     "output_type": "execute_result"
    }
   ],
   "source": [
    "data_311['Complaint Type']"
   ]
  },
  {
   "cell_type": "code",
   "execution_count": null,
   "metadata": {
    "collapsed": true
   },
   "outputs": [],
   "source": []
  }
 ],
 "metadata": {
  "kernelspec": {
   "display_name": "Python 3",
   "language": "python",
   "name": "python3"
  },
  "language_info": {
   "codemirror_mode": {
    "name": "ipython",
    "version": 3
   },
   "file_extension": ".py",
   "mimetype": "text/x-python",
   "name": "python",
   "nbconvert_exporter": "python",
   "pygments_lexer": "ipython3",
   "version": "3.6.2"
  }
 },
 "nbformat": 4,
 "nbformat_minor": 2
}
