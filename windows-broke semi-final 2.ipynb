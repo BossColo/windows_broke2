{
 "cells": [
  {
   "cell_type": "code",
   "execution_count": 1,
   "metadata": {
    "ExecuteTime": {
     "end_time": "2017-07-24T12:37:23.457599Z",
     "start_time": "2017-07-24T12:37:19.591251Z"
    },
    "collapsed": true
   },
   "outputs": [],
   "source": [
    "import numpy as np\n",
    "import pandas as pd\n",
    "import datetime as dt\n",
    "import matplotlib.pyplot as plt\n",
    "import matplotlib.dates as date\n",
    "import seaborn as sns\n",
    "from scipy import stats\n",
    "\n",
    "sns.set_context('talk')"
   ]
  },
  {
   "cell_type": "code",
   "execution_count": 2,
   "metadata": {
    "ExecuteTime": {
     "end_time": "2017-07-24T12:37:51.174217Z",
     "start_time": "2017-07-24T12:37:23.459581Z"
    },
    "collapsed": true
   },
   "outputs": [],
   "source": [
    "data_crime_raw = pd.read_csv('.\\\\NYPD_Complaint_Data_Historic.csv',\n",
    "                             usecols=['CMPLNT_FR_DT', 'OFNS_DESC', 'LAW_CAT_CD', 'Latitude', 'Longitude', 'BORO_NM'],\n",
    "                             dtype={'OFNS_DESC':'category', 'LAW_CAT_CD':'category', 'BORO_NM':'category',\n",
    "                                    'Latitude':float, 'Longitude':float})\n",
    "\n",
    "data_crime_raw['CMPLNT_FR_DT'] = pd.to_datetime(data_crime_raw['CMPLNT_FR_DT'], format='%m/%d/%Y', errors='coerce')"
   ]
  },
  {
   "cell_type": "code",
   "execution_count": 3,
   "metadata": {
    "ExecuteTime": {
     "end_time": "2017-07-24T12:40:18.447887Z",
     "start_time": "2017-07-24T12:37:51.176220Z"
    },
    "collapsed": true
   },
   "outputs": [],
   "source": [
    "data_311_raw = pd.read_csv('.\\\\311_Service_Requests_from_2010_to_Present.csv',\n",
    "                           usecols=['Created Date', 'Complaint Type', 'Descriptor', 'Latitude', 'Longitude', 'Borough'],\n",
    "                           dtype={'Complaint Type':'category', 'Descriptor':'category', 'Borough':'category',\n",
    "                                  'Latitude':float, 'Longitude':float})\n",
    "\n",
    "data_311_raw['created_date'] = pd.to_datetime(data_311_raw['Created Date'], format='%m/%d/%Y %I:%M:%S %p', errors='coerce')"
   ]
  },
  {
   "cell_type": "code",
   "execution_count": 406,
   "metadata": {
    "ExecuteTime": {
     "end_time": "2017-07-24T15:18:20.504063Z",
     "start_time": "2017-07-24T15:18:12.277700Z"
    },
    "collapsed": true
   },
   "outputs": [],
   "source": [
    "data_crime = data_crime_raw[data_crime_raw.CMPLNT_FR_DT > pd.to_datetime(dt.date(2010,1,1))].dropna()\n",
    "data_311 = data_311_raw[data_311_raw.created_date < pd.to_datetime(dt.date(2016,12,31))].dropna()"
   ]
  },
  {
   "cell_type": "code",
   "execution_count": 407,
   "metadata": {
    "ExecuteTime": {
     "end_time": "2017-07-24T15:18:20.633654Z",
     "start_time": "2017-07-24T15:18:20.506064Z"
    },
    "collapsed": true
   },
   "outputs": [],
   "source": [
    "minlat = data_crime.Latitude.min()\n",
    "maxlat = data_crime.Latitude.max()\n",
    "minlon = data_crime.Longitude.min()\n",
    "maxlon = data_crime.Longitude.max()\n",
    "\n",
    "latrange = np.arange(minlat, maxlat+0.02, 0.02)\n",
    "lonrange = np.arange(minlon, maxlon+0.02, 0.02)"
   ]
  },
  {
   "cell_type": "code",
   "execution_count": 408,
   "metadata": {
    "ExecuteTime": {
     "end_time": "2017-07-24T15:18:20.773777Z",
     "start_time": "2017-07-24T15:18:20.636156Z"
    },
    "collapsed": true
   },
   "outputs": [],
   "source": [
    "data_crime = data_crime[data_crime.LAW_CAT_CD != 'VIOLATION']"
   ]
  },
  {
   "cell_type": "code",
   "execution_count": 409,
   "metadata": {
    "ExecuteTime": {
     "end_time": "2017-07-24T15:18:22.707288Z",
     "start_time": "2017-07-24T15:18:20.775777Z"
    },
    "collapsed": true
   },
   "outputs": [],
   "source": [
    "d_311_grouped = data_311.groupby(\n",
    "    by=[pd.cut(data_311['Latitude'], latrange),\n",
    "        pd.cut(data_311['Longitude'], lonrange)])\n",
    "\n",
    "d_c_grouped = data_crime.groupby(\n",
    "    by=[pd.cut(data_crime['Latitude'], latrange),\n",
    "    pd.cut(data_crime['Longitude'], lonrange)])\n",
    "\n",
    "data = d_311_grouped.size().to_frame('311').merge(d_c_grouped.size().to_frame('crime'), left_index=True, right_index=True)"
   ]
  },
  {
   "cell_type": "code",
   "execution_count": 410,
   "metadata": {
    "ExecuteTime": {
     "end_time": "2017-07-24T15:18:22.986988Z",
     "start_time": "2017-07-24T15:18:22.708809Z"
    }
   },
   "outputs": [],
   "source": [
    "plt_311 = np.array(data['311'].apply(int))\n",
    "plt_crime = np.array(data['crime'].apply(int))\n",
    "plt.close('all')\n",
    "# data.plot(kind='scatter', x='311', y='crime')\n",
    "sns.regplot(x=plt_311, y=plt_crime)\n",
    "plt.suptitle('311 v total crime 2010-2016\\ngrouped by location')\n",
    "plt.xlabel('Total 311 complaints')\n",
    "plt.ylabel('Total reported crime')\n",
    "plt.savefig('311vcrime.png', format='png')"
   ]
  },
  {
   "cell_type": "code",
   "execution_count": 411,
   "metadata": {
    "ExecuteTime": {
     "end_time": "2017-07-24T15:18:24.838800Z",
     "start_time": "2017-07-24T15:18:22.989490Z"
    }
   },
   "outputs": [],
   "source": [
    "d_311_grouped = data_311[data_311.Borough == 'MANHATTAN'].groupby(\n",
    "    by=[pd.TimeGrouper(key='created_date',freq='M'), 'Complaint Type']).size().to_frame('total')\n",
    "\n",
    "d_c_grouped = data_crime[data_crime.BORO_NM == 'MANHATTAN'].groupby(\n",
    "    by=pd.TimeGrouper(key='CMPLNT_FR_DT',freq='M')).size().to_frame('total')\n",
    "\n",
    "d_c_grouped2 = d_c_grouped.copy()\n",
    "d_c_grouped2['Complaint Type'] = 'crime'\n",
    "d_c_grouped2.set_index('Complaint Type', append=True, inplace=True)\n",
    "d_c_grouped2.index.rename('created_date', level=0, inplace=True)"
   ]
  },
  {
   "cell_type": "code",
   "execution_count": 412,
   "metadata": {
    "ExecuteTime": {
     "end_time": "2017-07-24T15:18:24.978399Z",
     "start_time": "2017-07-24T15:18:24.840802Z"
    },
    "scrolled": true
   },
   "outputs": [
    {
     "name": "stderr",
     "output_type": "stream",
     "text": [
      "C:\\Anaconda3\\lib\\site-packages\\numpy\\lib\\function_base.py:2995: RuntimeWarning: Degrees of freedom <= 0 for slice\n",
      "  c = cov(x, y, rowvar)\n",
      "C:\\Anaconda3\\lib\\site-packages\\numpy\\lib\\function_base.py:2929: RuntimeWarning: divide by zero encountered in double_scalars\n",
      "  c *= 1. / np.float64(fact)\n"
     ]
    }
   ],
   "source": [
    "crimecorr = d_311_grouped.unstack(level=1)['total'].corrwith(d_c_grouped2['total'])\n",
    "corridx = ['Complaint Type'] + list(crimecorr[crimecorr > .5].keys()) + ['crime']"
   ]
  },
  {
   "cell_type": "code",
   "execution_count": 413,
   "metadata": {
    "ExecuteTime": {
     "end_time": "2017-07-24T15:18:25.028435Z",
     "start_time": "2017-07-24T15:18:24.980901Z"
    }
   },
   "outputs": [],
   "source": [
    "d_all_grouped = d_c_grouped2.combine_first(d_311_grouped)"
   ]
  },
  {
   "cell_type": "code",
   "execution_count": 414,
   "metadata": {
    "ExecuteTime": {
     "end_time": "2017-07-24T15:18:25.070472Z",
     "start_time": "2017-07-24T15:18:25.030936Z"
    }
   },
   "outputs": [],
   "source": [
    "corr = d_all_grouped.unstack(level=1).corr().dropna(axis=1, how='all')"
   ]
  },
  {
   "cell_type": "code",
   "execution_count": 415,
   "metadata": {
    "ExecuteTime": {
     "end_time": "2017-07-24T15:18:25.089486Z",
     "start_time": "2017-07-24T15:18:25.075475Z"
    }
   },
   "outputs": [],
   "source": [
    "corr2 = corr.reset_index(level=0, drop=True)\n",
    "corr2.columns = corr2.columns.droplevel()\n",
    "corr2.reset_index(inplace=True)"
   ]
  },
  {
   "cell_type": "code",
   "execution_count": 416,
   "metadata": {
    "ExecuteTime": {
     "end_time": "2017-07-24T15:18:25.114502Z",
     "start_time": "2017-07-24T15:18:25.097490Z"
    },
    "scrolled": true
   },
   "outputs": [],
   "source": [
    "corr3 = corr2[corr2['Complaint Type'].isin(corridx)][corridx].set_index('Complaint Type')"
   ]
  },
  {
   "cell_type": "code",
   "execution_count": 432,
   "metadata": {
    "ExecuteTime": {
     "end_time": "2017-07-24T15:22:41.428318Z",
     "start_time": "2017-07-24T15:22:41.074676Z"
    }
   },
   "outputs": [],
   "source": [
    "sns.set(style=\"white\")\n",
    "\n",
    "mask = np.zeros_like(corr3, dtype=np.bool)\n",
    "mask[np.triu_indices_from(mask)] = True\n",
    "\n",
    "f, ax = plt.subplots(figsize=(11, 9))\n",
    "\n",
    "cmap = sns.diverging_palette(220, 10, as_cmap=True)\n",
    "\n",
    "sns.heatmap(corr3, mask=mask, cmap=cmap, vmax=.3, center=0,\n",
    "            square=True, linewidths=.5, cbar_kws={\"shrink\": .5})\n",
    "\n",
    "f.suptitle('Correlation Heat Map')\n",
    "f.subplots_adjust(left = 0.1, bottom = 0.28)\n",
    "\n",
    "plt.savefig('CorrelationMap.png', format='png')"
   ]
  },
  {
   "cell_type": "code",
   "execution_count": null,
   "metadata": {
    "collapsed": true
   },
   "outputs": [],
   "source": []
  }
 ],
 "metadata": {
  "kernelspec": {
   "display_name": "Python 3",
   "language": "python",
   "name": "python3"
  },
  "language_info": {
   "codemirror_mode": {
    "name": "ipython",
    "version": 3
   },
   "file_extension": ".py",
   "mimetype": "text/x-python",
   "name": "python",
   "nbconvert_exporter": "python",
   "pygments_lexer": "ipython3",
   "version": "3.6.2"
  }
 },
 "nbformat": 4,
 "nbformat_minor": 2
}
